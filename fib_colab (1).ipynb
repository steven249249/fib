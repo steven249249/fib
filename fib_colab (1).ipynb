{
  "nbformat": 4,
  "nbformat_minor": 0,
  "metadata": {
    "colab": {
      "provenance": []
    },
    "kernelspec": {
      "name": "python3",
      "display_name": "Python 3"
    },
    "language_info": {
      "name": "python"
    }
  },
  "cells": [
    {
      "cell_type": "code",
      "execution_count": 1,
      "metadata": {
        "colab": {
          "base_uri": "https://localhost:8080/"
        },
        "id": "UAgmOIEGYiFU",
        "outputId": "df485239-4fde-428f-a84d-be7e868b778c"
      },
      "outputs": [
        {
          "output_type": "stream",
          "name": "stdout",
          "text": [
            "21\n"
          ]
        }
      ],
      "source": [
        "def fibonacci(n):\n",
        "  if n == 1:\n",
        "    return 0\n",
        "  elif n == 2:\n",
        "    return 1\n",
        "  else:\n",
        "    return fibonacci(n-1)+fibonacci(n-2)\n",
        "\n",
        "def dynamic_fibonacci(n):\n",
        "    f = [0, 1]    \n",
        "    for i in range(2, n+1):\n",
        "        f.append(f[i-1] + f[i-2])\n",
        "    return f[n]\n",
        "     \n",
        "print(fibonacci(9))\n"
      ]
    },
    {
      "cell_type": "code",
      "source": [
        "import time\n",
        "\n",
        "fib_time_list=[]\n",
        "\n",
        "for i in range(10,60,10):\n",
        "  start_time = time.perf_counter()\n",
        "  fibonacci(i)\n",
        "  end_time = time.perf_counter()\n",
        "  during_time = end_time-start_time\n",
        "  fib_time_list.append(during_time)"
      ],
      "metadata": {
        "id": "CoAV5vSQYuxI"
      },
      "execution_count": null,
      "outputs": []
    },
    {
      "cell_type": "code",
      "source": [
        "import matplotlib.pyplot as plt\n",
        "  \n",
        "# 輸入陣列\n",
        "fib_time_list1=fib_time_list.copy()\n",
        "# 設定x軸座標\n",
        "fib_time_list1.insert(0,0)\n",
        "for i in range(5):\n",
        "  fib_time_list1.append(2000)\n",
        "x = [10*i for i in range(len(fib_time_list1))]\n",
        "print(len(x))\n",
        "# 繪製折線圖\n",
        "plt.plot(x, fib_time_list1)\n",
        "  \n",
        "# 設定圖表標題和軸標籤\n",
        "plt.title(\"fibonacci\")\n",
        "plt.xlabel(\"n\")\n",
        "plt.ylabel(\"time\")\n",
        "  \n",
        "# 顯示圖表\n",
        "plt.show()"
      ],
      "metadata": {
        "colab": {
          "base_uri": "https://localhost:8080/",
          "height": 245
        },
        "id": "r-o8B26e2Z9I",
        "outputId": "8e3cb14a-40d3-4c55-b345-c33d9b0816ca"
      },
      "execution_count": 2,
      "outputs": [
        {
          "output_type": "error",
          "ename": "NameError",
          "evalue": "ignored",
          "traceback": [
            "\u001b[0;31m---------------------------------------------------------------------------\u001b[0m",
            "\u001b[0;31mNameError\u001b[0m                                 Traceback (most recent call last)",
            "\u001b[0;32m<ipython-input-2-ffc0562f37dc>\u001b[0m in \u001b[0;36m<cell line: 4>\u001b[0;34m()\u001b[0m\n\u001b[1;32m      2\u001b[0m \u001b[0;34m\u001b[0m\u001b[0m\n\u001b[1;32m      3\u001b[0m \u001b[0;31m# 輸入陣列\u001b[0m\u001b[0;34m\u001b[0m\u001b[0;34m\u001b[0m\u001b[0m\n\u001b[0;32m----> 4\u001b[0;31m \u001b[0mfib_time_list1\u001b[0m\u001b[0;34m=\u001b[0m\u001b[0mfib_time_list\u001b[0m\u001b[0;34m.\u001b[0m\u001b[0mcopy\u001b[0m\u001b[0;34m(\u001b[0m\u001b[0;34m)\u001b[0m\u001b[0;34m\u001b[0m\u001b[0;34m\u001b[0m\u001b[0m\n\u001b[0m\u001b[1;32m      5\u001b[0m \u001b[0;31m# 設定x軸座標\u001b[0m\u001b[0;34m\u001b[0m\u001b[0;34m\u001b[0m\u001b[0m\n\u001b[1;32m      6\u001b[0m \u001b[0mfib_time_list1\u001b[0m\u001b[0;34m.\u001b[0m\u001b[0minsert\u001b[0m\u001b[0;34m(\u001b[0m\u001b[0;36m0\u001b[0m\u001b[0;34m,\u001b[0m\u001b[0;36m0\u001b[0m\u001b[0;34m)\u001b[0m\u001b[0;34m\u001b[0m\u001b[0;34m\u001b[0m\u001b[0m\n",
            "\u001b[0;31mNameError\u001b[0m: name 'fib_time_list' is not defined"
          ]
        }
      ]
    },
    {
      "cell_type": "code",
      "source": [
        "import time\n",
        "dynamic_time_list =[]\n",
        "for i in range(10,110,10):\n",
        "  start_time = time.perf_counter()\n",
        "  dynamic_fibonacci(i)\n",
        "  end_time = time.perf_counter()\n",
        "  during_time = end_time-start_time\n",
        "  dynamic_time_list.append(during_time)"
      ],
      "metadata": {
        "id": "Wric4qQkORyT"
      },
      "execution_count": 8,
      "outputs": []
    },
    {
      "cell_type": "code",
      "source": [
        "dynamic_time_list1 = dynamic_time_list.copy()\n",
        "dynamic_time_list1.insert(0,0)\n",
        "x = [10*i for i in range(len(dynamic_time_list1))]\n",
        "\n",
        "print(len(x))\n",
        "# 繪製折線圖\n",
        "plt.plot(x, dynamic_time_list1)\n",
        "  \n",
        "# 設定圖表標題和軸標籤\n",
        "plt.title(\"dynamic fibonacci\")\n",
        "plt.xlabel(\"n\")\n",
        "plt.ylabel(\"time\")\n",
        "  \n",
        "# 顯示圖表\n",
        "plt.show()"
      ],
      "metadata": {
        "colab": {
          "base_uri": "https://localhost:8080/",
          "height": 490
        },
        "id": "R9qxB604MgH4",
        "outputId": "378fbf24-1694-4835-d4a2-8c6d3a47ca57"
      },
      "execution_count": 9,
      "outputs": [
        {
          "output_type": "stream",
          "name": "stdout",
          "text": [
            "11\n"
          ]
        },
        {
          "output_type": "display_data",
          "data": {
            "text/plain": [
              "<Figure size 640x480 with 1 Axes>"
            ],
            "image/png": "[encoded data removed]"
          },
          "metadata": {}
        }
      ]
    }
  ]
}